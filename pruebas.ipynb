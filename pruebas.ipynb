{
 "cells": [
  {
   "cell_type": "code",
   "execution_count": 1,
   "metadata": {},
   "outputs": [],
   "source": [
    "import optimization as go\n",
    "import os\n",
    "\n",
    "import numpy as np\n",
    "import pandas as pd\n",
    "import matplotlib.pyplot as plt\n",
    "from typing import Callable\n",
    "\n",
    "import processing as pr\n",
    "import read_instances as ri\n",
    "\n",
    "from sklearn.cluster import KMeans\n",
    "import my_fuzzy_cmeans_clustering as fcm\n",
    "import my_kmeans_clustering as km\n",
    "import my_distances as md"
   ]
  },
  {
   "cell_type": "code",
   "execution_count": 2,
   "metadata": {},
   "outputs": [],
   "source": [
    "data, problem_info = ri.obtain_instance_data('p01')\n",
    "\n",
    "points = data[['x', 'y']]\n",
    "deposit = points.iloc[[0]]\n",
    "points_df = points.iloc[1:,:].copy()\n",
    "normalized_points = points.apply(pr.normalize, axis=0).to_numpy()[1:]\n",
    "normalized_df = points.apply(pr.normalize, axis=0).iloc[1:]\n",
    "points = points.to_numpy()\n",
    "warehouse = points[0]\n",
    "points = np.delete(points, 0, axis=0)"
   ]
  },
  {
   "cell_type": "code",
   "execution_count": 3,
   "metadata": {},
   "outputs": [],
   "source": [
    "clusters_fc, labels_fc, _ = fcm.my_fuzzy_c_means(normalized_points, c=5, metric=md.euclidean_distance)"
   ]
  },
  {
   "cell_type": "code",
   "execution_count": 4,
   "metadata": {},
   "outputs": [
    {
     "data": {
      "text/plain": [
       "array([[0.18530999, 0.75302671],\n",
       "       [0.31689162, 0.17658955],\n",
       "       [0.43217856, 0.45637962],\n",
       "       [0.83604823, 0.41964968],\n",
       "       [0.74383171, 0.86350815]])"
      ]
     },
     "execution_count": 4,
     "metadata": {},
     "output_type": "execute_result"
    }
   ],
   "source": [
    "clusters_fc"
   ]
  },
  {
   "cell_type": "code",
   "execution_count": 5,
   "metadata": {},
   "outputs": [
    {
     "data": {
      "text/plain": [
       "array([4, 4, 4, 1, 2, 0, 0, 0, 3, 3, 2, 2, 1, 0, 1, 3, 1, 2, 1, 4, 3, 4,\n",
       "       0, 0, 0, 0, 2, 4, 3, 3, 4, 2, 3, 3, 4, 4, 1, 3, 3, 1, 1, 1, 0, 1,\n",
       "       1, 2, 2, 0, 3, 3], dtype=int64)"
      ]
     },
     "execution_count": 5,
     "metadata": {},
     "output_type": "execute_result"
    }
   ],
   "source": [
    "labels_fc"
   ]
  },
  {
   "cell_type": "code",
   "execution_count": 6,
   "metadata": {},
   "outputs": [],
   "source": [
    "clusters_k, labels_k, _ = km.my_kmeans(normalized_points, normalized_df, k=5, max_iterations=10, metric=md.euclidean_distance)"
   ]
  },
  {
   "cell_type": "code",
   "execution_count": 7,
   "metadata": {},
   "outputs": [
    {
     "data": {
      "text/plain": [
       "array([[0.625     , 0.42460317],\n",
       "       [0.36896552, 0.48783069],\n",
       "       [0.51567398, 0.53102453],\n",
       "       [0.62298851, 0.60952381],\n",
       "       [0.49137931, 0.42460317]])"
      ]
     },
     "execution_count": 7,
     "metadata": {},
     "output_type": "execute_result"
    }
   ],
   "source": [
    "clusters_k"
   ]
  },
  {
   "cell_type": "code",
   "execution_count": 8,
   "metadata": {},
   "outputs": [
    {
     "data": {
      "text/plain": [
       "array([3, 3, 3, 1, 4, 1, 1, 3, 4, 2, 4, 0, 1, 1, 2, 3, 0, 1, 1, 3, 3, 3,\n",
       "       1, 1, 1, 3, 1, 3, 3, 2, 3, 3, 2, 2, 3, 3, 2, 4, 2, 1, 1, 2, 1, 2,\n",
       "       2, 0, 0, 1, 2, 3], dtype=int64)"
      ]
     },
     "execution_count": 8,
     "metadata": {},
     "output_type": "execute_result"
    }
   ],
   "source": [
    "labels_k"
   ]
  }
 ],
 "metadata": {
  "kernelspec": {
   "display_name": "Python 3",
   "language": "python",
   "name": "python3"
  },
  "language_info": {
   "codemirror_mode": {
    "name": "ipython",
    "version": 3
   },
   "file_extension": ".py",
   "mimetype": "text/x-python",
   "name": "python",
   "nbconvert_exporter": "python",
   "pygments_lexer": "ipython3",
   "version": "3.10.4"
  }
 },
 "nbformat": 4,
 "nbformat_minor": 2
}
